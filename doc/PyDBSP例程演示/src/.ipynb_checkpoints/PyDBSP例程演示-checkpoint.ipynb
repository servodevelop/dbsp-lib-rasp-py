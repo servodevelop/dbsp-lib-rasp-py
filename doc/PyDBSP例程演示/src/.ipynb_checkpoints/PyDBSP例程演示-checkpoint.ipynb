{
 "cells": [
  {
   "cell_type": "markdown",
   "metadata": {},
   "source": [
    "# PyDBSP例程演示"
   ]
  },
  {
   "cell_type": "markdown",
   "metadata": {},
   "source": [
    "## 概要"
   ]
  },
  {
   "cell_type": "markdown",
   "metadata": {},
   "source": [
    "PyDBSP是DBSP舵机开发板的Python SDK.\n",
    "\n",
    "本文讲解了如何使用`PyDBSP`, 提供了常用功能的示例代码."
   ]
  },
  {
   "cell_type": "markdown",
   "metadata": {},
   "source": [
    "## 导入依赖"
   ]
  },
  {
   "cell_type": "code",
   "execution_count": 1,
   "metadata": {},
   "outputs": [],
   "source": [
    "import time\n",
    "\n",
    "# PySerial库用于串口通信\n",
    "# 使用此脚本之前, 请确保已经安装好了PySerial\n",
    "# PySerial安装过程及使用说明见官方文档\n",
    "# https://pyserial.readthedocs.io/en/latest/pyserial.html\n",
    "import serial\n",
    "\n",
    "# 自定义的PyDBSP库文件, 将dbsp.py放置在测试工程的同极目录\n",
    "from dbsp import *"
   ]
  },
  {
   "cell_type": "markdown",
   "metadata": {},
   "source": [
    "##  初始化DBSP\n",
    "\n",
    "DBSP的初始化步骤如下:\n",
    "1. 给DBSP控制板上电\n",
    "2. 然后用USB线将DBSP开发板上面的`usb1`与PC相连.\n",
    "3. 查看设备在PC上挂载的端口号. \n",
    "   在Windows下, 端口编号为`COM?`, 例如`COM3`. \n",
    "   在Linux下, 端口编号为`/dev/ttyACM?`, 例如`/dev/ttyACM1`\n",
    "   修改下方的`PORT_NAME`变量\n",
    "4. 创建Serial对象\n",
    "   串口通信的配置如下:\n",
    "   \n",
    "   ![](../image/desktop_config.png)\n",
    "5. 初始化DBSP类\n",
    "6. 设置通信协议模式"
   ]
  },
  {
   "cell_type": "code",
   "execution_count": 2,
   "metadata": {},
   "outputs": [],
   "source": [
    "# 请修改端口名称\n",
    "PORT_NAME = '/dev/ttyACM0'\n",
    "    \n",
    "# 创建串口对象\n",
    "# PySerial相关的API文档\n",
    "# https://pyserial.readthedocs.io/en/latest/pyserial_api.html  \n",
    "# 设置timeout=0 不等待直接返回\n",
    "uart = serial.Serial(port=PORT_NAME, baudrate=115200,\\\n",
    "                     parity=serial.PARITY_NONE, stopbits=1,\\\n",
    "                     bytesize=8,timeout=0)\n",
    "\n",
    "# 初始化DBSP\n",
    "DBSP.init(uart, is_debug=False)"
   ]
  },
  {
   "cell_type": "markdown",
   "metadata": {},
   "source": [
    "设置通信协议模式\n",
    "注: **必须设置通信协议模式, 否则DBSP将不能正确解析接受到的数据.**"
   ]
  },
  {
   "cell_type": "code",
   "execution_count": 3,
   "metadata": {},
   "outputs": [
    {
     "name": "stdout",
     "output_type": "stream",
     "text": [
      "通信协议模式设置是否成功 : True\n"
     ]
    }
   ],
   "source": [
    "def set_trans_mode_callback(*args):\n",
    "    '''设置协议模式的回调函数'''\n",
    "    is_ok, mode = args\n",
    "    print('通信协议模式设置是否成功 : {}'.format(is_ok))\n",
    "\n",
    "event = SetTranmissionMode()\n",
    "event.set_callback(set_trans_mode_callback)\n",
    "DBSP.add(event)"
   ]
  },
  {
   "cell_type": "markdown",
   "metadata": {},
   "source": [
    "## 舵机控制\n",
    "\n",
    "![](../image/DBSP控制板.png)\n",
    "\n",
    "\n",
    "\n",
    "不同与串口舵机, DBSP舵机的ID是自动分配的.\n",
    "\n",
    "舵机与DBSP主板的连接方式，串联顺序就决定了这个舵机的唯一标识。\n",
    "\n",
    "**Stream 流** 代表DBSP舵机是接在DBSP开发板的第几个舵机接口上，编号从1-6\n",
    "\n",
    "**Order 顺序** DBSP舵机是串联的，在一个Stream上的舵机，按照离开发板的距离，直接连在开发板上的舵机编号为1，后续依次递增。\n",
    "\n",
    "\n",
    "###  舵机列表查询\n",
    "\n",
    "查询目前DBSP开发板上所有的舵机ID列表"
   ]
  },
  {
   "cell_type": "code",
   "execution_count": 4,
   "metadata": {},
   "outputs": [
    {
     "name": "stdout",
     "output_type": "stream",
     "text": [
      "Query Servo List Callback Function\n",
      "(2, (65, 97))\n",
      "舵机个数: 2\n",
      "舵机列表如下: \n",
      "* 舵机 ID: 65 Stream: 4  Order:1\n",
      "* 舵机 ID: 97 Stream: 6  Order:1\n"
     ]
    }
   ],
   "source": [
    "'''\n",
    "测试舵机查询功能\n",
    "'''\n",
    "def query_list_callback(*args):\n",
    "    print('Query Servo List Callback Function')\n",
    "    print(args)\n",
    "    srv_num, srv_id_list = args\n",
    "    print('舵机个数: {}'.format(srv_num))\n",
    "    print('舵机列表如下: ')\n",
    "    for srv_id in srv_id_list:\n",
    "        stream, order = DBSPUtil.servo_id2stream_order(srv_id)\n",
    "        print('* 舵机 ID: {} Stream: {}  Order:{}'.format(srv_id, stream, order))\n",
    "        \n",
    "query_servo_list = QueryServoList()\n",
    "query_servo_list.set_callback(query_list_callback)\n",
    "\n",
    "DBSP.add(query_servo_list)"
   ]
  },
  {
   "cell_type": "markdown",
   "metadata": {},
   "source": [
    "如果在测试的时候, 插在DBSP上的舵机的ID并没有被识别出来, 可以做如下尝试:\n",
    "\n",
    "1. 保持舵机与DBSP主板的连接, 将DBSP开发板与PC断开, 关闭DBSP的电源, 重启DBSP. \n",
    "\n",
    "   重新创建UART连接(此时可能需要修改设备端口号)\n",
    "\n",
    "2. 更换电池电源. 因为在低点亮的情况下, 舵机可能会掉线.　或者换用学生电源(7.4v)\n",
    "\n",
    "3. 更换舵机, 或者更换舵机接口"
   ]
  },
  {
   "cell_type": "markdown",
   "metadata": {},
   "source": [
    "### 舵机状态查询\n",
    "\n",
    "替换要查询的舵机ID `servo_id`, 如果对应的舵机ID并没有挂载在DBSP开发板上,会有相关的提示."
   ]
  },
  {
   "cell_type": "code",
   "execution_count": 8,
   "metadata": {},
   "outputs": [
    {
     "name": "stdout",
     "output_type": "stream",
     "text": [
      "舵机信息列表长度: 1\n",
      "  Servo 65 = 0x41\n",
      "    angle        : 2\n",
      "    current      : 0\n",
      "    temperature  : 1774\n",
      "    servo type   : 31517\n",
      "    is start     : False\n",
      "    is hold      : False\n",
      "\n"
     ]
    }
   ],
   "source": [
    "# 修改这里的舵机ID号\n",
    "# 舵机ID号的16进制表示\n",
    "servo_id = 0x41\n",
    "\n",
    "def query_servo_info_callback(*args):\n",
    "    '''查询舵机信息的回调函数'''\n",
    "    srv_num, srv_info_list = args\n",
    "    print('舵机信息列表长度: {}'.format(srv_num))\n",
    "    for srv_info in srv_info_list:\n",
    "        print(srv_info)\n",
    "    \n",
    "query_servo_info = QueryServoInfo(servo_id)\n",
    "query_servo_info.set_callback(query_servo_info_callback)\n",
    "\n",
    "DBSP.add(query_servo_info)"
   ]
  },
  {
   "cell_type": "markdown",
   "metadata": {},
   "source": [
    "如果不指定舵机ID, 返回的是所有舵机的信息"
   ]
  },
  {
   "cell_type": "code",
   "execution_count": 9,
   "metadata": {},
   "outputs": [
    {
     "name": "stdout",
     "output_type": "stream",
     "text": [
      "舵机信息列表长度: 2\n",
      "  Servo 65 = 0x41\n",
      "    angle        : 2\n",
      "    current      : 0\n",
      "    temperature  : 1774\n",
      "    servo type   : 44100\n",
      "    is start     : False\n",
      "    is hold      : False\n",
      "\n",
      "  Servo 97 = 0x61\n",
      "    angle        : 64\n",
      "    current      : 0\n",
      "    temperature  : 1827\n",
      "    servo type   : 44388\n",
      "    is start     : False\n",
      "    is hold      : False\n",
      "\n"
     ]
    }
   ],
   "source": [
    "query_servo_info = QueryServoInfo()\n",
    "query_servo_info.set_callback(query_servo_info_callback)\n",
    "\n",
    "DBSP.add(query_servo_info)"
   ]
  },
  {
   "cell_type": "markdown",
   "metadata": {},
   "source": [
    "### 设置舵机角度"
   ]
  },
  {
   "cell_type": "markdown",
   "metadata": {},
   "source": [
    "角度设置默认单位是`ADC`的取值, 取值范围是`[-95, 95]`, 数据类型为整数. \n",
    "如果想控制机器人关节的角度的话, 可以对舵机进行**标定**, 获得角度/弧度与ADC之间的线性函数, 把角度转换为ADC数值,然后给DBSP发送舵机`ADC`控制信息.\n",
    "\n",
    "在设置舵机角度的时候, 还需要设置**时间间隔 Interval**, 数据类型为整数, 单位是`1ms`. 例如`interval=100` 就代表延时100ms.\n",
    "\n",
    "将舵机的角度控制信息依次放入`Tuple`数据中.\n",
    "例如我们想让`0x41`号舵机在`100`ms内旋转到`60`度(其实是ADC的取值)，写成Tuple数据格式就是`(0x41, 60, 100)`"
   ]
  },
  {
   "cell_type": "markdown",
   "metadata": {},
   "source": [
    "> 注: 如果角度设置之后没有相应, 可以尝试修改目标角度, 再次运行"
   ]
  },
  {
   "cell_type": "code",
   "execution_count": 10,
   "metadata": {},
   "outputs": [],
   "source": [
    "servo_angle_list = [(0x41, 60, 100)]\n",
    "event = ServoAngleControlEvent(servo_angle_list)\n",
    "DBSP.add(event)"
   ]
  },
  {
   "cell_type": "markdown",
   "metadata": {},
   "source": [
    "也可以同时设置多个舵机的角度, 例如\n",
    "\n",
    "```python\n",
    "servo_angle_list = [(0x31, 50, 1000), (0x32, -50, 1000), (0x33, 90, 200)]\n",
    "event = ServoAngleControlEvent(servo_angle_list)\n",
    "DBSP.add(event)\n",
    "```"
   ]
  },
  {
   "cell_type": "markdown",
   "metadata": {},
   "source": [
    "## Action动作\n",
    "\n",
    "**Action 动作指令**，是**DBSP指令**中的一种类型， 它包含了各个舵机对应的目标角度，以及花多长时间运动到该目标角度。\n",
    "\n",
    "\n",
    "在DBSP的工程文件（后缀为`.svproj`)里查到所有的Action以及Action的详细信息.\n",
    "\n",
    "样例`Action`的XML源码如下:\n",
    "```xml\n",
    "<Actions>\n",
    "    <Action ID=\"800933234\" Caption=\"turn_left_03\">\n",
    "      <Steps>\n",
    "        <Step Stream=\"1\" Order=\"1\" Degree=\"-49\" Interval=\"300\" />\n",
    "        <Step Stream=\"1\" Order=\"2\" Degree=\"-2\" Interval=\"300\" />\n",
    "        <Step Stream=\"1\" Order=\"3\" Degree=\"-1\" Interval=\"300\" />\n",
    "        <Step Stream=\"1\" Order=\"4\" Degree=\"11\" Interval=\"300\" />\n",
    "        <Step Stream=\"2\" Order=\"1\" Degree=\"-90\" Interval=\"300\" />\n",
    "        <Step Stream=\"2\" Order=\"2\" Degree=\"-80\" Interval=\"300\" />\n",
    "        <Step Stream=\"2\" Order=\"3\" Degree=\"0\" Interval=\"300\" />\n",
    "        <Step Stream=\"4\" Order=\"1\" Degree=\"90\" Interval=\"300\" />\n",
    "        <Step Stream=\"4\" Order=\"2\" Degree=\"81\" Interval=\"300\" />\n",
    "        <Step Stream=\"4\" Order=\"3\" Degree=\"0\" Interval=\"300\" />\n",
    "        <Step Stream=\"5\" Order=\"1\" Degree=\"41\" Interval=\"300\" />\n",
    "        <Step Stream=\"5\" Order=\"2\" Degree=\"-37\" Interval=\"300\" />\n",
    "        <Step Stream=\"6\" Order=\"1\" Degree=\"64\" Interval=\"300\" />\n",
    "        <Step Stream=\"6\" Order=\"2\" Degree=\"-1\" Interval=\"300\" />\n",
    "        <Step Stream=\"6\" Order=\"3\" Degree=\"-19\" Interval=\"300\" />\n",
    "        <Step Stream=\"6\" Order=\"4\" Degree=\"10\" Interval=\"300\" />\n",
    "      </Steps>\n",
    "    </Action>\n",
    "    ....其他Action\n",
    "<Actions>\n",
    "```\n",
    "\n",
    "此`Action`的标题`Caption`为`turn_left_03`, `ID`号为`800933234`\n",
    "\n",
    "```xml\n",
    "<Action ID=\"800933234\" Caption=\"turn_left_03\">...</Action>\n",
    "```\n",
    "\n",
    "\n",
    "`<Step>`里面指定了舵机的ID`Stream + Order `, 目标角度`Degree`, 以及旋转到目标角度所需要的时间`Interval`, 单位ms.\n",
    "\n",
    "\n",
    "需要找出这个Action里面所有Step里面最大的`Interval`作为此Action的总的`Interval`\n",
    "\n",
    "\n",
    "**注: 在执行Action前, 请确保工程文件已经上传到DBSP主板上, 且调用次Action的Marco存在于Joystick游戏手柄的映射表里面**\n",
    "\n",
    "### 执行Action"
   ]
  },
  {
   "cell_type": "code",
   "execution_count": 11,
   "metadata": {},
   "outputs": [],
   "source": [
    "TURN_LEFT_ACTION_ID = 800933234 # Action的ID\n",
    "TURN_LEFT_INTERVAL = 300 # Action执行所需要的时间，单位ms\n",
    "action = ActionEvent(TURN_LEFT_ACTION_ID, TURN_LEFT_INTERVAL)\n",
    "DBSP.add(action)"
   ]
  },
  {
   "cell_type": "markdown",
   "metadata": {},
   "source": [
    "## Marco巨集\n",
    "\n",
    "**Marco巨集** 由若干个**Command指令**构成，指令按照时间顺序依次执行。\n",
    "\n",
    "**Command指令**有很多**Type 类型** \n",
    "\n",
    "- `Delay` 延时指令\n",
    "\n",
    "  可以设置不同的延时时间，每个延时时间会创建一个Delay指令，延时多少ms，它的ID就是多少。\n",
    "  \n",
    "  样例: `<Command ID=\"200\" Type=\"Delay\" Ratio=\"100\" Loop=\"1\" />`\n",
    "\n",
    "- `Action` 动作指令\n",
    "\n",
    "- `Marco` 巨集 , Marco也可以由其他的Marco构成，但是只支持单层嵌套\n",
    "\n",
    "\n",
    "\n",
    "与Action类似, 获取Marco的ID还有其他信息, 也需要查阅DBSP的工程源码\n",
    "\n",
    "样例Marco的源码如下所示:\n",
    "\n",
    "```xml\n",
    " <Marcos>\n",
    "    <Marco ID=\"1913442680\" Caption=\"turn_left_step\" Reserved=\"0\">\n",
    "      <Commands>\n",
    "        <Command ID=\"397359613\" Type=\"Action\" Ratio=\"100\" Loop=\"1\" />\n",
    "        <Command ID=\"200\" Type=\"Delay\" Ratio=\"100\" Loop=\"1\" />\n",
    "        <Command ID=\"1598552266\" Type=\"Action\" Ratio=\"100\" Loop=\"1\" />\n",
    "        <Command ID=\"200\" Type=\"Delay\" Ratio=\"100\" Loop=\"1\" />\n",
    "        <Command ID=\"800933234\" Type=\"Action\" Ratio=\"100\" Loop=\"1\" />\n",
    "        <Command ID=\"200\" Type=\"Delay\" Ratio=\"100\" Loop=\"1\" />\n",
    "        <Command ID=\"746696029\" Type=\"Action\" Ratio=\"100\" Loop=\"1\" />\n",
    "        <Command ID=\"200\" Type=\"Delay\" Ratio=\"100\" Loop=\"1\" />\n",
    "      </Commands>\n",
    "    </Marco>\n",
    "     ...其他Marco...\n",
    "</Marcos>\n",
    "```\n",
    "\n",
    "此Marco的名称`Caption`为`turn_left_step`向左转, ID为`1913442680`\n",
    "```xml\n",
    "<Marco ID=\"1913442680\" Caption=\"turn_left_step\" Reserved=\"0\">...</Marco>\n",
    "```\n",
    "\n",
    "将Marco里面所有的指令的耗时加在一起, 就是这个Marco的总的耗时`Interval`. 可以通过DBSP的上位机查看时间统计.\n",
    "\n",
    "\n",
    "**注: 请确保工程文件已经上传到DBSP主板上, 且Marco存在于Joystick游戏手柄的映射表里面**\n"
   ]
  },
  {
   "cell_type": "markdown",
   "metadata": {},
   "source": [
    "### 查询Marco列表"
   ]
  },
  {
   "cell_type": "code",
   "execution_count": 12,
   "metadata": {},
   "outputs": [
    {
     "name": "stdout",
     "output_type": "stream",
     "text": [
      "Marco Num: 8\n",
      "Marco ID: 166367466  Marco Name: b'init_pose'\n",
      "Marco ID: 1656218031  Marco Name: b'go_forward_step'\n",
      "Marco ID: 1913442680  Marco Name: b'turn_left_step'\n",
      "Marco ID: 316806338  Marco Name: b'turn_right_step'\n",
      "Marco ID: 915727867  Marco Name: b'go_backward_step'\n",
      "Marco ID: 1745398858  Marco Name: b'none'\n",
      "Marco ID: 37173147  Marco Name: b'shift_right_step'\n",
      "Marco ID: 1962515968  Marco Name: b'shift_left_step'\n"
     ]
    }
   ],
   "source": [
    "query_marco_evt = QueryMarcoList()\n",
    "\n",
    "def query_marco_evt_callback(*args):\n",
    "    marco_num, marco_list = args\n",
    "    print('Marco Num: {}'.format(marco_num))\n",
    "    for marco_id, marco_name in marco_list:\n",
    "        print('Marco ID: {}  Marco Name: {}'.format(marco_id, marco_name))\n",
    "\n",
    "query_marco_evt.set_callback(query_marco_evt_callback)\n",
    "\n",
    "DBSP.add(query_marco_evt)"
   ]
  },
  {
   "cell_type": "markdown",
   "metadata": {},
   "source": [
    "### 运行Marco"
   ]
  },
  {
   "cell_type": "code",
   "execution_count": 13,
   "metadata": {},
   "outputs": [],
   "source": [
    "INIT_MARCO_ID = 166367466 # 获取Marco ID,需要查阅DBSP的工程文件XML里面的ID, 或者根据上面的Marco ID查询列表输出日志\n",
    "INIT_MARCO_INTERVAL = 300 # ms Marco的总时间长度 (在DBSP的上位机上可以查到)\n",
    "marco = MarcoEvent(INIT_MARCO_ID, INIT_MARCO_INTERVAL)\n",
    "DBSP.add(marco)"
   ]
  },
  {
   "cell_type": "markdown",
   "metadata": {},
   "source": [
    "## 延时\n",
    "\n",
    "### 延时事件\n",
    "在机器人的不同的动作之间插入时间延时"
   ]
  },
  {
   "cell_type": "code",
   "execution_count": 17,
   "metadata": {},
   "outputs": [],
   "source": [
    "delay_ms = 1000 # 延时时间, 单位ms\n",
    "event = DelayEvent(delay_ms)\n",
    "DBSP.add(event)"
   ]
  },
  {
   "cell_type": "markdown",
   "metadata": {},
   "source": [
    "## 按键\n",
    "\n",
    "\n",
    "**JoystickTable 遥控手柄控制表** 定义了**Joystick 遥控手柄**不同的按键与状态与Marco巨集（用Marco的ID号来表示）之间的映射关系。\n",
    "\n",
    "按键状态如下:\n",
    "\n",
    "- 按键按下 `ButtonPress`\n",
    "- 按键长按 `ButtonLongPress`\n",
    "- 按键释放 `ButtonUp`\n",
    "\n",
    "![](../image/control.png)\n"
   ]
  },
  {
   "cell_type": "markdown",
   "metadata": {},
   "source": [
    "**注意事项**\n",
    "\n",
    "1. 请确保游戏手柄与DBSP(USB2口上有无线接收器)建立无线连接. 游戏手柄指示灯`RX`常亮\n",
    "2. 只有在JoystickTable里面编辑了映射关系的Marco，在上传(upload)的时候，　Marco才会被保存在DBSP主控板里面。在IDE中新建Marco的时候，这个Marco并没有保存在DBSP主板上，IDE是通过发送舵机角度控制指令来完成测试的。　\n",
    "3. 如果一个按键没有编辑好与之对应的Marco，在MaixPy订阅了DBSP的按键事件之后, 该按键也不会产生回调函数。　"
   ]
  },
  {
   "cell_type": "markdown",
   "metadata": {},
   "source": [
    "### 按键事件订阅与回调"
   ]
  },
  {
   "cell_type": "code",
   "execution_count": 9,
   "metadata": {},
   "outputs": [
    {
     "name": "stdout",
     "output_type": "stream",
     "text": [
      "Subscribe Button Event\n"
     ]
    }
   ],
   "source": [
    "def button_callback(button_id, button_state):\n",
    "    '''按键事件回调函数'''\n",
    "    print('[INFO] Callback\\n    button_id={} button_state={}'.format(button_id, button_state))\n",
    "\n",
    "def subscribe_button_callback(is_subscribe, is_ok):\n",
    "    '''订阅按键事件成功后的回调函数'''\n",
    "    if is_ok:\n",
    "        if is_subscribe:\n",
    "            btn_event = ButtonEvent()\n",
    "            btn_event.set_callback(button_callback)\n",
    "            # 订阅按钮事件\n",
    "            print('Subscribe Button Event')\n",
    "            DBSP.add(btn_event)\n",
    "        else:\n",
    "            pass\n",
    "\n",
    "sbs_btn_evt = SubscribeButtonEvent()\n",
    "sbs_btn_evt.set_callback(subscribe_button_callback)\n",
    "DBSP.add(sbs_btn_evt)"
   ]
  }
 ],
 "metadata": {
  "kernelspec": {
   "display_name": "Python 3",
   "language": "python",
   "name": "python3"
  },
  "language_info": {
   "codemirror_mode": {
    "name": "ipython",
    "version": 3
   },
   "file_extension": ".py",
   "mimetype": "text/x-python",
   "name": "python",
   "nbconvert_exporter": "python",
   "pygments_lexer": "ipython3",
   "version": "3.6.8"
  }
 },
 "nbformat": 4,
 "nbformat_minor": 2
}
