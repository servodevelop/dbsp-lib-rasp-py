{
 "cells": [
  {
   "cell_type": "markdown",
   "metadata": {},
   "source": [
    "# 树莓派与DBSP进行串口通信"
   ]
  },
  {
   "cell_type": "markdown",
   "metadata": {},
   "source": [
    "## 概要\n",
    "\n",
    "本文主要侧重讲解树莓派的硬件串口与DBSP进行串口通信的时候, 树莓派串口对象的初始化问题.\n",
    "\n",
    "在阅读本文之前, 请按照`doc/树莓派硬件串口配置与实验/树莓派硬件串口配置与实验.md`里面的内容， 对树莓派进行串口配置.\n"
   ]
  },
  {
   "cell_type": "markdown",
   "metadata": {},
   "source": [
    "## 导入依赖"
   ]
  },
  {
   "cell_type": "code",
   "execution_count": 1,
   "metadata": {},
   "outputs": [],
   "source": [
    "import time\n",
    "\n",
    "# PySerial库用于串口通信\n",
    "# 使用此脚本之前, 请确保已经安装好了PySerial\n",
    "# PySerial安装过程及使用说明见官方文档\n",
    "# https://pyserial.readthedocs.io/en/latest/pyserial.html\n",
    "import serial\n",
    "\n",
    "# 自定义的PyDBSP库文件, 将dbsp.py放置在测试工程的同极目录\n",
    "from dbsp import *"
   ]
  },
  {
   "cell_type": "markdown",
   "metadata": {},
   "source": [
    "## 初始化串口"
   ]
  },
  {
   "cell_type": "markdown",
   "metadata": {},
   "source": [
    "树莓派3上面硬件串口的PORT名称是固定的, 端口号为`/dev/ttyAMA0`\n",
    "\n",
    "树莓派与DBSP开发板之间的串口通信, 默认波特率是**57600**\n",
    "\n",
    "> 注: PC/树莓派与DBSP的usb1进行串口通信的默认波特率为**115200**"
   ]
  },
  {
   "cell_type": "code",
   "execution_count": 7,
   "metadata": {},
   "outputs": [],
   "source": [
    "# 端口号\n",
    "PORT_NAME = '/dev/ttyAMA0'\n",
    "    \n",
    "# 创建串口对象\n",
    "# PySerial相关的API文档\n",
    "# https://pyserial.readthedocs.io/en/latest/pyserial_api.html  \n",
    "# 设置timeout=0 不等待直接返回\n",
    "uart = serial.Serial(port=PORT_NAME, baudrate=57600,\\\n",
    "                     parity=serial.PARITY_NONE, stopbits=1,\\\n",
    "                     bytesize=8,timeout=0)\n",
    "\n",
    "# 初始化DBSP\n",
    "DBSP.init(uart, is_debug=False)"
   ]
  },
  {
   "cell_type": "markdown",
   "metadata": {},
   "source": [
    "## 后续"
   ]
  },
  {
   "cell_type": "markdown",
   "metadata": {},
   "source": [
    "DBSP的API使用说明请参阅`doc/PyDBSP例程演示/PyDBSP例程演示.md`"
   ]
  }
 ],
 "metadata": {
  "kernelspec": {
   "display_name": "Python 3",
   "language": "python",
   "name": "python3"
  },
  "language_info": {
   "codemirror_mode": {
    "name": "ipython",
    "version": 3
   },
   "file_extension": ".py",
   "mimetype": "text/x-python",
   "name": "python",
   "nbconvert_exporter": "python",
   "pygments_lexer": "ipython3",
   "version": "3.5.3"
  }
 },
 "nbformat": 4,
 "nbformat_minor": 2
}
